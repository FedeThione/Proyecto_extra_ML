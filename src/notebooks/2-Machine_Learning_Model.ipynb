{
 "cells": [
  {
   "cell_type": "code",
   "execution_count": 40,
   "metadata": {},
   "outputs": [],
   "source": [
    "# MANIPULACIÓN Y ANÁLISIS DE DATOS\n",
    "\n",
    "import numpy as np\n",
    "import pandas as pd\n",
    "\n",
    "# MODELADO DE MACHINE LEARNING\n",
    "\n",
    "from sklearn.model_selection import train_test_split,cross_val_score, cross_validate, GridSearchCV\n",
    "from sklearn.preprocessing import OneHotEncoder, StandardScaler, MinMaxScaler, LabelEncoder, PolynomialFeatures\n",
    "from sklearn.ensemble import RandomForestClassifier, VotingClassifier, BaggingClassifier, AdaBoostClassifier, GradientBoostingClassifier, RandomForestRegressor\n",
    "from sklearn.metrics import balanced_accuracy_score, accuracy_score, classification_report, silhouette_score, precision_score, recall_score, f1_score\n",
    "from sklearn.linear_model import LogisticRegression\n",
    "from sklearn.svm import SVR, SVC\n",
    "from sklearn.neighbors import KNeighborsClassifier\n",
    "from sklearn.tree import DecisionTreeClassifier\n",
    "from sklearn.neural_network import MLPClassifier\n",
    "from sklearn.cluster import KMeans\n",
    "from sklearn.pipeline import Pipeline\n",
    "from sklearn.decomposition import PCA\n",
    "\n",
    "import warnings\n",
    "warnings.filterwarnings(\"ignore\")\n",
    "\n",
    "# GUARDADO Y CARGADO DE MODELOS ENTRENADOS\n",
    "import pickle\n",
    "from pathlib import Path"
   ]
  },
  {
   "cell_type": "code",
   "execution_count": 46,
   "metadata": {},
   "outputs": [],
   "source": [
    "cleaned_aq_numerico = pd.read_csv(\"../data/cleaned_file/air_quality.csv\")"
   ]
  },
  {
   "cell_type": "code",
   "execution_count": 18,
   "metadata": {},
   "outputs": [],
   "source": [
    "def niveles_NO2(concentracion_NO2):\n",
    "   if concentracion_NO2 <= 80:\n",
    "    return \"Baja\"\n",
    "   elif concentracion_NO2 <= 160:\n",
    "    return \"Moderada\"\n",
    "   else:\n",
    "    return \"Alta\"\n",
    "\n",
    "cleaned_aq_numerico[\"NO2_Concentración\"]= cleaned_aq_numerico[\"NO2(GT)\"].apply(niveles_NO2)"
   ]
  },
  {
   "cell_type": "code",
   "execution_count": 19,
   "metadata": {},
   "outputs": [],
   "source": [
    "# División de datos\n",
    "\n",
    "X= cleaned_aq_numerico.drop([\"NO2(GT)\", \"NO2_Concentración\"],axis=1)\n",
    "Y= cleaned_aq_numerico[\"NO2_Concentración\"]\n",
    "\n",
    "X_train, X_test, Y_train, Y_test =train_test_split(X,Y,test_size=0.2,random_state=42)"
   ]
  },
  {
   "cell_type": "code",
   "execution_count": 20,
   "metadata": {},
   "outputs": [],
   "source": [
    "# Estandarización\n",
    "scaler = StandardScaler()\n",
    "X_train_scaled = scaler.fit_transform(X_train)\n",
    "X_test_scaled = scaler.transform(X_test)"
   ]
  },
  {
   "cell_type": "code",
   "execution_count": 21,
   "metadata": {},
   "outputs": [
    {
     "name": "stdout",
     "output_type": "stream",
     "text": [
      "Precisión promedio en validación cruzada: 0.87\n"
     ]
    }
   ],
   "source": [
    "clf = RandomForestClassifier(random_state=40)\n",
    "\n",
    "cross_validation_scores = cross_val_score(clf, X_train, Y_train, cv=5, scoring='balanced_accuracy')\n",
    "\n",
    "print(\"Precisión promedio en validación cruzada: {:.2f}\".format(cross_validation_scores.mean()))"
   ]
  },
  {
   "cell_type": "code",
   "execution_count": 24,
   "metadata": {},
   "outputs": [
    {
     "name": "stdout",
     "output_type": "stream",
     "text": [
      "Precisión del modelo de Regresión Logística: 0.8482905982905983\n"
     ]
    }
   ],
   "source": [
    "aq_regression = LogisticRegression()\n",
    "aq_regression.fit(X, Y)\n",
    "\n",
    "prediccion_RL = aq_regression.predict(X_test)\n",
    "\n",
    "accuracy = accuracy_score(Y_test, prediccion_RL)\n",
    "print(\"Precisión del modelo de Regresión Logística:\", accuracy)"
   ]
  },
  {
   "cell_type": "code",
   "execution_count": 44,
   "metadata": {},
   "outputs": [
    {
     "name": "stdout",
     "output_type": "stream",
     "text": [
      "Precisión del modelo de SVC: 0.8611111111111112\n"
     ]
    }
   ],
   "source": [
    "aq_svm = SVC()\n",
    "\n",
    "aq_svm.fit(X, Y)\n",
    "\n",
    "prediccion_SVC = aq_svm.predict(X_test)\n",
    "\n",
    "accuracy = accuracy_score(Y_test, prediccion_SVC)\n",
    "print(\"Precisión del modelo de SVC:\", accuracy)"
   ]
  },
  {
   "cell_type": "code",
   "execution_count": 26,
   "metadata": {},
   "outputs": [
    {
     "name": "stdout",
     "output_type": "stream",
     "text": [
      "Precisión del modelo de KNN: 0.9220085470085471\n"
     ]
    }
   ],
   "source": [
    "aq_knn = KNeighborsClassifier()\n",
    "\n",
    "aq_knn.fit(X, Y)\n",
    "\n",
    "prediccion_KNN = aq_knn.predict(X_test)\n",
    "\n",
    "accuracy = accuracy_score(Y_test, prediccion_KNN)\n",
    "print(\"Precisión del modelo de KNN:\", accuracy)"
   ]
  },
  {
   "cell_type": "code",
   "execution_count": 27,
   "metadata": {},
   "outputs": [
    {
     "name": "stdout",
     "output_type": "stream",
     "text": [
      "Precisión del modelo de Árbol de Decisión: 1.0\n"
     ]
    }
   ],
   "source": [
    "aq_tree = DecisionTreeClassifier()\n",
    "\n",
    "aq_tree.fit(X, Y)\n",
    "\n",
    "prediccion_AD = aq_tree.predict(X_test)\n",
    "\n",
    "accuracy = accuracy_score(Y_test, prediccion_AD)\n",
    "print(\"Precisión del modelo de Árbol de Decisión:\", accuracy)"
   ]
  },
  {
   "cell_type": "code",
   "execution_count": 28,
   "metadata": {},
   "outputs": [
    {
     "name": "stdout",
     "output_type": "stream",
     "text": [
      "Precisión del modelo de Random Forest: 1.0\n"
     ]
    }
   ],
   "source": [
    "aq_forest = RandomForestClassifier()\n",
    "\n",
    "aq_forest.fit(X, Y)\n",
    "\n",
    "prediccion_RF = aq_forest.predict(X_test)\n",
    "\n",
    "accuracy = accuracy_score(Y_test, prediccion_RF)\n",
    "print(\"Precisión del modelo de Random Forest:\", accuracy)"
   ]
  },
  {
   "cell_type": "code",
   "execution_count": 29,
   "metadata": {},
   "outputs": [
    {
     "name": "stdout",
     "output_type": "stream",
     "text": [
      "Precisión del modelo de AdaBoost: 0.8082264957264957\n"
     ]
    }
   ],
   "source": [
    "aq_adaboost = AdaBoostClassifier()\n",
    "\n",
    "aq_adaboost.fit(X, Y)\n",
    "prediccion_ADABOOST = aq_adaboost.predict(X_test)\n",
    "\n",
    "accuracy = accuracy_score(Y_test, prediccion_ADABOOST)\n",
    "print(\"Precisión del modelo de AdaBoost:\", accuracy)"
   ]
  },
  {
   "cell_type": "code",
   "execution_count": 30,
   "metadata": {},
   "outputs": [
    {
     "name": "stdout",
     "output_type": "stream",
     "text": [
      "Precisión del modelo de Bagging: 0.8173076923076923\n"
     ]
    }
   ],
   "source": [
    "aq_bagging = BaggingClassifier(DecisionTreeClassifier(), n_estimators=300,\n",
    "                            max_samples=10, n_jobs=-1, random_state=42)\n",
    "aq_bagging.fit(X, Y)\n",
    "\n",
    "prediccion_Bagging = aq_bagging.predict(X_test)\n",
    "\n",
    "accuracy = accuracy_score(Y_test, prediccion_Bagging)\n",
    "print(\"Precisión del modelo de Bagging:\", accuracy)"
   ]
  },
  {
   "cell_type": "code",
   "execution_count": 31,
   "metadata": {},
   "outputs": [
    {
     "name": "stdout",
     "output_type": "stream",
     "text": [
      "Precisión del modelo de MLP: 0.8530982905982906\n"
     ]
    }
   ],
   "source": [
    "aq_mlp = MLPClassifier(hidden_layer_sizes=(64, 32, 16), activation='relu', alpha=0.001)\n",
    "\n",
    "aq_mlp.fit(X, Y)\n",
    "prediccion_MLP = aq_mlp.predict(X_test)\n",
    "\n",
    "accuracy = accuracy_score(Y_test, prediccion_MLP)\n",
    "print(\"Precisión del modelo de MLP:\", accuracy)"
   ]
  },
  {
   "cell_type": "code",
   "execution_count": null,
   "metadata": {},
   "outputs": [
    {
     "name": "stdout",
     "output_type": "stream",
     "text": [
      "Entrenando y evaluando el modelo Regresión Logística\n",
      "Informe de Clasificación para Regresión Logística en datos de entrenamiento:\n",
      "              precision    recall  f1-score   support\n",
      "\n",
      "        Alta       0.75      0.60      0.67      1023\n",
      "        Baja       0.91      0.90      0.91      2966\n",
      "    Moderada       0.81      0.86      0.84      3496\n",
      "\n",
      "    accuracy                           0.84      7485\n",
      "   macro avg       0.82      0.79      0.80      7485\n",
      "weighted avg       0.84      0.84      0.84      7485\n",
      "\n",
      "Informe de Clasificación para Regresión Logística en datos de prueba:\n",
      "              precision    recall  f1-score   support\n",
      "\n",
      "        Alta       0.76      0.62      0.68       238\n",
      "        Baja       0.91      0.89      0.90       729\n",
      "    Moderada       0.82      0.88      0.85       905\n",
      "\n",
      "    accuracy                           0.85      1872\n",
      "   macro avg       0.83      0.79      0.81      1872\n",
      "weighted avg       0.85      0.85      0.85      1872\n",
      "\n",
      "Entrenando y evaluando el modelo Random Forest\n",
      "Informe de Clasificación para Random Forest en datos de entrenamiento:\n",
      "              precision    recall  f1-score   support\n",
      "\n",
      "        Alta       0.88      0.52      0.66      1023\n",
      "        Baja       0.96      0.90      0.93      2966\n",
      "    Moderada       0.81      0.95      0.87      3496\n",
      "\n",
      "    accuracy                           0.87      7485\n",
      "   macro avg       0.88      0.79      0.82      7485\n",
      "weighted avg       0.88      0.87      0.87      7485\n",
      "\n",
      "Informe de Clasificación para Random Forest en datos de prueba:\n",
      "              precision    recall  f1-score   support\n",
      "\n",
      "        Alta       0.89      0.56      0.69       238\n",
      "        Baja       0.96      0.89      0.93       729\n",
      "    Moderada       0.83      0.95      0.89       905\n",
      "\n",
      "    accuracy                           0.88      1872\n",
      "   macro avg       0.89      0.80      0.83      1872\n",
      "weighted avg       0.89      0.88      0.88      1872\n",
      "\n",
      "Entrenando y evaluando el modelo AdaBoost\n",
      "Informe de Clasificación para AdaBoost en datos de entrenamiento:\n",
      "              precision    recall  f1-score   support\n",
      "\n",
      "        Alta       1.00      0.04      0.08      1023\n",
      "        Baja       0.95      0.83      0.89      2966\n",
      "    Moderada       0.69      0.96      0.81      3496\n",
      "\n",
      "    accuracy                           0.78      7485\n",
      "   macro avg       0.88      0.61      0.59      7485\n",
      "weighted avg       0.84      0.78      0.74      7485\n",
      "\n",
      "Informe de Clasificación para AdaBoost en datos de prueba:\n",
      "              precision    recall  f1-score   support\n",
      "\n",
      "        Alta       1.00      0.05      0.09       238\n",
      "        Baja       0.94      0.81      0.87       729\n",
      "    Moderada       0.70      0.95      0.81       905\n",
      "\n",
      "    accuracy                           0.78      1872\n",
      "   macro avg       0.88      0.60      0.59      1872\n",
      "weighted avg       0.83      0.78      0.74      1872\n",
      "\n",
      "Entrenando y evaluando el modelo Arbol de Decisión\n",
      "Informe de Clasificación para Arbol de Decisión en datos de entrenamiento:\n",
      "              precision    recall  f1-score   support\n",
      "\n",
      "        Alta       1.00      1.00      1.00      1023\n",
      "        Baja       1.00      1.00      1.00      2966\n",
      "    Moderada       1.00      1.00      1.00      3496\n",
      "\n",
      "    accuracy                           1.00      7485\n",
      "   macro avg       1.00      1.00      1.00      7485\n",
      "weighted avg       1.00      1.00      1.00      7485\n",
      "\n",
      "Informe de Clasificación para Arbol de Decisión en datos de prueba:\n",
      "              precision    recall  f1-score   support\n",
      "\n",
      "        Alta       1.00      1.00      1.00       238\n",
      "        Baja       1.00      1.00      1.00       729\n",
      "    Moderada       1.00      1.00      1.00       905\n",
      "\n",
      "    accuracy                           1.00      1872\n",
      "   macro avg       1.00      1.00      1.00      1872\n",
      "weighted avg       1.00      1.00      1.00      1872\n",
      "\n",
      "Entrenando y evaluando el modelo SVC\n",
      "Informe de Clasificación para SVC en datos de entrenamiento:\n",
      "              precision    recall  f1-score   support\n",
      "\n",
      "        Alta       0.82      0.54      0.65      1023\n",
      "        Baja       0.93      0.88      0.91      2966\n",
      "    Moderada       0.80      0.91      0.85      3496\n",
      "\n",
      "    accuracy                           0.85      7485\n",
      "   macro avg       0.85      0.78      0.80      7485\n",
      "weighted avg       0.85      0.85      0.85      7485\n",
      "\n",
      "Informe de Clasificación para SVC en datos de prueba:\n",
      "              precision    recall  f1-score   support\n",
      "\n",
      "        Alta       0.84      0.55      0.66       238\n",
      "        Baja       0.94      0.88      0.91       729\n",
      "    Moderada       0.81      0.93      0.87       905\n",
      "\n",
      "    accuracy                           0.86      1872\n",
      "   macro avg       0.86      0.79      0.81      1872\n",
      "weighted avg       0.87      0.86      0.86      1872\n",
      "\n",
      "Entrenando y evaluando el modelo KNN\n",
      "Informe de Clasificación para KNN en datos de entrenamiento:\n",
      "              precision    recall  f1-score   support\n",
      "\n",
      "        Alta       1.00      1.00      1.00      1023\n",
      "        Baja       1.00      1.00      1.00      2966\n",
      "    Moderada       1.00      1.00      1.00      3496\n",
      "\n",
      "    accuracy                           1.00      7485\n",
      "   macro avg       1.00      1.00      1.00      7485\n",
      "weighted avg       1.00      1.00      1.00      7485\n",
      "\n",
      "Informe de Clasificación para KNN en datos de prueba:\n",
      "              precision    recall  f1-score   support\n",
      "\n",
      "        Alta       1.00      1.00      1.00       238\n",
      "        Baja       1.00      1.00      1.00       729\n",
      "    Moderada       1.00      1.00      1.00       905\n",
      "\n",
      "    accuracy                           1.00      1872\n",
      "   macro avg       1.00      1.00      1.00      1872\n",
      "weighted avg       1.00      1.00      1.00      1872\n",
      "\n",
      "Entrenando y evaluando el modelo Bagging\n",
      "Informe de Clasificación para Bagging en datos de entrenamiento:\n",
      "              precision    recall  f1-score   support\n",
      "\n",
      "        Alta       0.80      0.40      0.54      1023\n",
      "        Baja       0.93      0.88      0.90      2966\n",
      "    Moderada       0.77      0.91      0.83      3496\n",
      "\n",
      "    accuracy                           0.83      7485\n",
      "   macro avg       0.83      0.73      0.76      7485\n",
      "weighted avg       0.84      0.83      0.82      7485\n",
      "\n",
      "Informe de Clasificación para Bagging en datos de prueba:\n",
      "              precision    recall  f1-score   support\n",
      "\n",
      "        Alta       0.86      0.45      0.59       238\n",
      "        Baja       0.92      0.86      0.89       729\n",
      "    Moderada       0.78      0.92      0.84       905\n",
      "\n",
      "    accuracy                           0.84      1872\n",
      "   macro avg       0.85      0.74      0.77      1872\n",
      "weighted avg       0.84      0.84      0.83      1872\n",
      "\n"
     ]
    }
   ],
   "source": [
    "modelos = {\n",
    "    \"Regresión Logística\": LogisticRegression(),\n",
    "    \"Random Forest\": RandomForestClassifier(),\n",
    "    \"AdaBoost\": AdaBoostClassifier(),\n",
    "    \"Arbol de Decisión\": DecisionTreeClassifier(),\n",
    "    \"SVC\": SVC(),\n",
    "    \"KNN\": KNeighborsClassifier(),\n",
    "    \"Bagging\": BaggingClassifier(DecisionTreeClassifier())\n",
    "}\n",
    "\n",
    "hiperparametros = {\n",
    "    \"Regresión Logística\": {'modelo__C': [1, 5, 10], 'modelo__penalty': ['l1','l2']},\n",
    "    \"Random Forest\": {'modelo__n_estimators': [75, 100, 125], 'modelo__max_depth': [None, 5, 10, 15, 20], 'modelo__min_samples_split': [1, 5, 10], 'modelo__min_samples_leaf': [1, 5, 10]},\n",
    "    \"AdaBoost\": {'modelo__n_estimators': [50, 100, 150], 'modelo__learning_rate': [0.1, 1, 10]},\n",
    "    \"Arbol de Decisión\": {'modelo__criterion': ['gini','entropy'], 'modelo__splitter': ['best','random'], 'modelo__max_features': [None,'sqrt']},\n",
    "    \"SVC\": {'modelo__C': [0.01, 0.1, 1, 10], 'modelo__kernel': ['rbf', 'sigmoid'], 'modelo__gamma': ['scale','auto']},\n",
    "    \"KNN\": {'modelo__n_neighbors': [1, 5, 10], 'modelo__weights': ['uniform','distance'], 'modelo__algorithm': ['ball_tree', 'kd_tree', 'brute', 'auto']},\n",
    "    \"Bagging\": {'modelo__n_estimators':[100, 200, 300], 'modelo__max_samples':[5,10,15], 'modelo__n_jobs':[-1, 0, 1]}\n",
    "    }\n",
    "\n",
    "pipeline = []\n",
    "\n",
    "for nombre_modelo, modelo in modelos.items():\n",
    "    print(f\"Entrenando y evaluando el modelo {nombre_modelo}\")\n",
    "\n",
    "    # Obtengo hiperparámetros específicos para el modelo\n",
    "    hiperparametros_modelo = hiperparametros.get(nombre_modelo, {})\n",
    "\n",
    "    pipeline = Pipeline([('modelo', modelo)])\n",
    "\n",
    "    # Verifico si el modelo admite búsqueda de cuadrícula\n",
    "    if hiperparametros_modelo:\n",
    "        grid_search = GridSearchCV(estimator=pipeline, param_grid=hiperparametros_modelo, scoring='accuracy', cv=3)\n",
    "        grid_search.fit(X, Y)\n",
    "        mejor_modelo = grid_search.best_estimator_\n",
    "    else:\n",
    "        mejor_modelo = pipeline.fit(X, Y)\n",
    "\n",
    "    prediccion_entrenamiento = mejor_modelo.predict(X_train)\n",
    "    prediccion_prueba = mejor_modelo.predict(X_test)\n",
    "\n",
    "    reporte_entrenamiento = classification_report(Y_train, prediccion_entrenamiento)\n",
    "    reporte_prueba = classification_report(Y_test, prediccion_prueba)\n",
    "\n",
    "    print(f\"Informe de Clasificación para {nombre_modelo} en datos de entrenamiento:\")\n",
    "    print(reporte_entrenamiento)\n",
    "    print(f\"Informe de Clasificación para {nombre_modelo} en datos de prueba:\")\n",
    "    print(reporte_prueba)"
   ]
  },
  {
   "cell_type": "code",
   "execution_count": null,
   "metadata": {},
   "outputs": [
    {
     "name": "stdout",
     "output_type": "stream",
     "text": [
      "\n",
      "Informe de clasificación:\n",
      "               precision    recall  f1-score   support\n",
      "\n",
      "        Alta       0.85      0.57      0.68       238\n",
      "        Baja       0.99      0.73      0.84       729\n",
      "    Moderada       0.75      0.97      0.84       905\n",
      "\n",
      "    accuracy                           0.83      1872\n",
      "   macro avg       0.86      0.76      0.79      1872\n",
      "weighted avg       0.85      0.83      0.82      1872\n",
      "\n"
     ]
    }
   ],
   "source": [
    "report = classification_report(Y_test, prediccion_MLP)\n",
    "print(\"\\nInforme de clasificación:\\n\", report)"
   ]
  },
  {
   "cell_type": "code",
   "execution_count": null,
   "metadata": {},
   "outputs": [],
   "source": [
    "modelos = {\n",
    "    \"Regresión Logística\": LogisticRegression(),\n",
    "    \"Random Forest\": RandomForestClassifier(),\n",
    "    \"AdaBoost\": AdaBoostClassifier(),\n",
    "    \"Arbol de Decisión\": DecisionTreeClassifier(),\n",
    "    \"SVC\": SVC(),\n",
    "    \"KNN\": KNeighborsClassifier(),\n",
    "    \"Bagging\": BaggingClassifier(DecisionTreeClassifier()),\n",
    "    \"MLP\": MLPClassifier()\n",
    "    }\n",
    "\n",
    "metricas = [\"accuracy\", \"f1_macro\", \"recall_macro\", \"precision_macro\", \"roc_auc_ovr\"]\n",
    "\n",
    "resultados_dict = {}\n",
    "\n",
    "for nombre_modelo, modelo in modelos.items():\n",
    "    cv_resultados = cross_validate(modelo, X, Y, cv=5, scoring=metricas)\n",
    "    \n",
    "    for metrica in metricas:\n",
    "        \n",
    "        clave = f\"{nombre_modelo}_{metrica}\"\n",
    "        resultados_dict[clave] = cv_resultados[f\"test_{metrica}\"].mean()\n",
    "    \n",
    "resultados = pd.DataFrame([resultados_dict])"
   ]
  },
  {
   "cell_type": "code",
   "execution_count": null,
   "metadata": {},
   "outputs": [
    {
     "data": {
      "text/html": [
       "<div>\n",
       "<style scoped>\n",
       "    .dataframe tbody tr th:only-of-type {\n",
       "        vertical-align: middle;\n",
       "    }\n",
       "\n",
       "    .dataframe tbody tr th {\n",
       "        vertical-align: top;\n",
       "    }\n",
       "\n",
       "    .dataframe thead th {\n",
       "        text-align: right;\n",
       "    }\n",
       "</style>\n",
       "<table border=\"1\" class=\"dataframe\">\n",
       "  <thead>\n",
       "    <tr style=\"text-align: right;\">\n",
       "      <th></th>\n",
       "      <th>0</th>\n",
       "    </tr>\n",
       "  </thead>\n",
       "  <tbody>\n",
       "    <tr>\n",
       "      <th>Regresión Logística_roc_auc_ovr</th>\n",
       "      <td>0.921666</td>\n",
       "    </tr>\n",
       "    <tr>\n",
       "      <th>Random Forest_roc_auc_ovr</th>\n",
       "      <td>0.901486</td>\n",
       "    </tr>\n",
       "    <tr>\n",
       "      <th>MLP_roc_auc_ovr</th>\n",
       "      <td>0.884915</td>\n",
       "    </tr>\n",
       "    <tr>\n",
       "      <th>Bagging_roc_auc_ovr</th>\n",
       "      <td>0.880935</td>\n",
       "    </tr>\n",
       "    <tr>\n",
       "      <th>KNN_roc_auc_ovr</th>\n",
       "      <td>0.830618</td>\n",
       "    </tr>\n",
       "    <tr>\n",
       "      <th>SVC_precision_macro</th>\n",
       "      <td>0.819619</td>\n",
       "    </tr>\n",
       "    <tr>\n",
       "      <th>SVC_accuracy</th>\n",
       "      <td>0.804740</td>\n",
       "    </tr>\n",
       "    <tr>\n",
       "      <th>Regresión Logística_precision_macro</th>\n",
       "      <td>0.800427</td>\n",
       "    </tr>\n",
       "    <tr>\n",
       "      <th>Regresión Logística_accuracy</th>\n",
       "      <td>0.779525</td>\n",
       "    </tr>\n",
       "    <tr>\n",
       "      <th>Random Forest_accuracy</th>\n",
       "      <td>0.779298</td>\n",
       "    </tr>\n",
       "    <tr>\n",
       "      <th>Arbol de Decisión_roc_auc_ovr</th>\n",
       "      <td>0.779259</td>\n",
       "    </tr>\n",
       "    <tr>\n",
       "      <th>Bagging_accuracy</th>\n",
       "      <td>0.765729</td>\n",
       "    </tr>\n",
       "    <tr>\n",
       "      <th>MLP_precision_macro</th>\n",
       "      <td>0.757216</td>\n",
       "    </tr>\n",
       "    <tr>\n",
       "      <th>Bagging_precision_macro</th>\n",
       "      <td>0.743867</td>\n",
       "    </tr>\n",
       "    <tr>\n",
       "      <th>Random Forest_precision_macro</th>\n",
       "      <td>0.740452</td>\n",
       "    </tr>\n",
       "    <tr>\n",
       "      <th>AdaBoost_roc_auc_ovr</th>\n",
       "      <td>0.740247</td>\n",
       "    </tr>\n",
       "    <tr>\n",
       "      <th>Arbol de Decisión_accuracy</th>\n",
       "      <td>0.738050</td>\n",
       "    </tr>\n",
       "    <tr>\n",
       "      <th>SVC_f1_macro</th>\n",
       "      <td>0.736070</td>\n",
       "    </tr>\n",
       "    <tr>\n",
       "      <th>SVC_recall_macro</th>\n",
       "      <td>0.735603</td>\n",
       "    </tr>\n",
       "    <tr>\n",
       "      <th>MLP_accuracy</th>\n",
       "      <td>0.734850</td>\n",
       "    </tr>\n",
       "    <tr>\n",
       "      <th>Random Forest_recall_macro</th>\n",
       "      <td>0.729068</td>\n",
       "    </tr>\n",
       "    <tr>\n",
       "      <th>Bagging_recall_macro</th>\n",
       "      <td>0.728911</td>\n",
       "    </tr>\n",
       "    <tr>\n",
       "      <th>Regresión Logística_recall_macro</th>\n",
       "      <td>0.723294</td>\n",
       "    </tr>\n",
       "    <tr>\n",
       "      <th>Regresión Logística_f1_macro</th>\n",
       "      <td>0.720221</td>\n",
       "    </tr>\n",
       "    <tr>\n",
       "      <th>KNN_accuracy</th>\n",
       "      <td>0.710895</td>\n",
       "    </tr>\n",
       "    <tr>\n",
       "      <th>Random Forest_f1_macro</th>\n",
       "      <td>0.708230</td>\n",
       "    </tr>\n",
       "    <tr>\n",
       "      <th>Bagging_f1_macro</th>\n",
       "      <td>0.707485</td>\n",
       "    </tr>\n",
       "    <tr>\n",
       "      <th>KNN_precision_macro</th>\n",
       "      <td>0.697784</td>\n",
       "    </tr>\n",
       "    <tr>\n",
       "      <th>Arbol de Decisión_recall_macro</th>\n",
       "      <td>0.697577</td>\n",
       "    </tr>\n",
       "    <tr>\n",
       "      <th>Arbol de Decisión_precision_macro</th>\n",
       "      <td>0.688160</td>\n",
       "    </tr>\n",
       "    <tr>\n",
       "      <th>KNN_recall_macro</th>\n",
       "      <td>0.674796</td>\n",
       "    </tr>\n",
       "    <tr>\n",
       "      <th>AdaBoost_accuracy</th>\n",
       "      <td>0.672539</td>\n",
       "    </tr>\n",
       "    <tr>\n",
       "      <th>Arbol de Decisión_f1_macro</th>\n",
       "      <td>0.671422</td>\n",
       "    </tr>\n",
       "    <tr>\n",
       "      <th>AdaBoost_precision_macro</th>\n",
       "      <td>0.670092</td>\n",
       "    </tr>\n",
       "    <tr>\n",
       "      <th>MLP_recall_macro</th>\n",
       "      <td>0.666442</td>\n",
       "    </tr>\n",
       "    <tr>\n",
       "      <th>MLP_f1_macro</th>\n",
       "      <td>0.662757</td>\n",
       "    </tr>\n",
       "    <tr>\n",
       "      <th>AdaBoost_recall_macro</th>\n",
       "      <td>0.662561</td>\n",
       "    </tr>\n",
       "    <tr>\n",
       "      <th>KNN_f1_macro</th>\n",
       "      <td>0.644973</td>\n",
       "    </tr>\n",
       "    <tr>\n",
       "      <th>AdaBoost_f1_macro</th>\n",
       "      <td>0.631116</td>\n",
       "    </tr>\n",
       "    <tr>\n",
       "      <th>SVC_roc_auc_ovr</th>\n",
       "      <td>NaN</td>\n",
       "    </tr>\n",
       "  </tbody>\n",
       "</table>\n",
       "</div>"
      ],
      "text/plain": [
       "                                            0\n",
       "Regresión Logística_roc_auc_ovr      0.921666\n",
       "Random Forest_roc_auc_ovr            0.901486\n",
       "MLP_roc_auc_ovr                      0.884915\n",
       "Bagging_roc_auc_ovr                  0.880935\n",
       "KNN_roc_auc_ovr                      0.830618\n",
       "SVC_precision_macro                  0.819619\n",
       "SVC_accuracy                         0.804740\n",
       "Regresión Logística_precision_macro  0.800427\n",
       "Regresión Logística_accuracy         0.779525\n",
       "Random Forest_accuracy               0.779298\n",
       "Arbol de Decisión_roc_auc_ovr        0.779259\n",
       "Bagging_accuracy                     0.765729\n",
       "MLP_precision_macro                  0.757216\n",
       "Bagging_precision_macro              0.743867\n",
       "Random Forest_precision_macro        0.740452\n",
       "AdaBoost_roc_auc_ovr                 0.740247\n",
       "Arbol de Decisión_accuracy           0.738050\n",
       "SVC_f1_macro                         0.736070\n",
       "SVC_recall_macro                     0.735603\n",
       "MLP_accuracy                         0.734850\n",
       "Random Forest_recall_macro           0.729068\n",
       "Bagging_recall_macro                 0.728911\n",
       "Regresión Logística_recall_macro     0.723294\n",
       "Regresión Logística_f1_macro         0.720221\n",
       "KNN_accuracy                         0.710895\n",
       "Random Forest_f1_macro               0.708230\n",
       "Bagging_f1_macro                     0.707485\n",
       "KNN_precision_macro                  0.697784\n",
       "Arbol de Decisión_recall_macro       0.697577\n",
       "Arbol de Decisión_precision_macro    0.688160\n",
       "KNN_recall_macro                     0.674796\n",
       "AdaBoost_accuracy                    0.672539\n",
       "Arbol de Decisión_f1_macro           0.671422\n",
       "AdaBoost_precision_macro             0.670092\n",
       "MLP_recall_macro                     0.666442\n",
       "MLP_f1_macro                         0.662757\n",
       "AdaBoost_recall_macro                0.662561\n",
       "KNN_f1_macro                         0.644973\n",
       "AdaBoost_f1_macro                    0.631116\n",
       "SVC_roc_auc_ovr                           NaN"
      ]
     },
     "metadata": {},
     "output_type": "display_data"
    }
   ],
   "source": [
    "resultados.T.sort_values(by=0, ascending=False)"
   ]
  },
  {
   "cell_type": "code",
   "execution_count": 32,
   "metadata": {},
   "outputs": [
    {
     "name": "stdout",
     "output_type": "stream",
     "text": [
      "Fitting 10 folds for each of 1 candidates, totalling 10 fits\n",
      "Fitting 10 folds for each of 1 candidates, totalling 10 fits\n",
      "Fitting 10 folds for each of 1 candidates, totalling 10 fits\n",
      "Fitting 10 folds for each of 1 candidates, totalling 10 fits\n",
      "Fitting 10 folds for each of 1 candidates, totalling 10 fits\n",
      "Fitting 10 folds for each of 1 candidates, totalling 10 fits\n",
      "Fitting 10 folds for each of 1 candidates, totalling 10 fits\n"
     ]
    }
   ],
   "source": [
    "models_gridsearch = {}\n",
    "\n",
    "models = [\n",
    "    (\"Regresión Logística\", LogisticRegression()),\n",
    "    (\"Random Forest\", RandomForestClassifier()),\n",
    "    (\"AdaBoost\", AdaBoostClassifier()),\n",
    "    (\"Arbol de Decisión\", DecisionTreeClassifier()),\n",
    "    (\"SVC\", SVC()),\n",
    "    (\"KNN\", KNeighborsClassifier()),\n",
    "    (\"MLP\", MLPClassifier())\n",
    "]\n",
    "\n",
    "for model_name, model_instance in models:\n",
    "    models_gridsearch[model_name] = GridSearchCV(model_instance,\n",
    "                                                 param_grid={},\n",
    "                                                 cv=10,\n",
    "                                                 scoring=\"accuracy\",\n",
    "                                                 verbose=1,\n",
    "                                                 n_jobs=-1)\n",
    "    \n",
    "    models_gridsearch[model_name].fit(X, Y)"
   ]
  },
  {
   "cell_type": "code",
   "execution_count": 33,
   "metadata": {},
   "outputs": [
    {
     "data": {
      "text/html": [
       "<div>\n",
       "<style scoped>\n",
       "    .dataframe tbody tr th:only-of-type {\n",
       "        vertical-align: middle;\n",
       "    }\n",
       "\n",
       "    .dataframe tbody tr th {\n",
       "        vertical-align: top;\n",
       "    }\n",
       "\n",
       "    .dataframe thead th {\n",
       "        text-align: right;\n",
       "    }\n",
       "</style>\n",
       "<table border=\"1\" class=\"dataframe\">\n",
       "  <thead>\n",
       "    <tr style=\"text-align: right;\">\n",
       "      <th></th>\n",
       "      <th>Grid</th>\n",
       "      <th>Best score</th>\n",
       "    </tr>\n",
       "  </thead>\n",
       "  <tbody>\n",
       "    <tr>\n",
       "      <th>1</th>\n",
       "      <td>Random Forest</td>\n",
       "      <td>0.827395</td>\n",
       "    </tr>\n",
       "    <tr>\n",
       "      <th>4</th>\n",
       "      <td>SVC</td>\n",
       "      <td>0.821833</td>\n",
       "    </tr>\n",
       "    <tr>\n",
       "      <th>0</th>\n",
       "      <td>Regresión Logística</td>\n",
       "      <td>0.821302</td>\n",
       "    </tr>\n",
       "    <tr>\n",
       "      <th>3</th>\n",
       "      <td>Arbol de Decisión</td>\n",
       "      <td>0.780587</td>\n",
       "    </tr>\n",
       "    <tr>\n",
       "      <th>2</th>\n",
       "      <td>AdaBoost</td>\n",
       "      <td>0.765524</td>\n",
       "    </tr>\n",
       "    <tr>\n",
       "      <th>5</th>\n",
       "      <td>KNN</td>\n",
       "      <td>0.759851</td>\n",
       "    </tr>\n",
       "    <tr>\n",
       "      <th>6</th>\n",
       "      <td>MLP</td>\n",
       "      <td>0.699684</td>\n",
       "    </tr>\n",
       "  </tbody>\n",
       "</table>\n",
       "</div>"
      ],
      "text/plain": [
       "                  Grid  Best score\n",
       "1        Random Forest    0.827395\n",
       "4                  SVC    0.821833\n",
       "0  Regresión Logística    0.821302\n",
       "3    Arbol de Decisión    0.780587\n",
       "2             AdaBoost    0.765524\n",
       "5                  KNN    0.759851\n",
       "6                  MLP    0.699684"
      ]
     },
     "execution_count": 33,
     "metadata": {},
     "output_type": "execute_result"
    }
   ],
   "source": [
    "best_grids = [(i, j.best_score_) for i, j in models_gridsearch.items()]\n",
    "\n",
    "best_grids = pd.DataFrame(best_grids, columns=[\"Grid\", \"Best score\"]).sort_values(by=\"Best score\", ascending=False)\n",
    "best_grids"
   ]
  },
  {
   "cell_type": "code",
   "execution_count": 34,
   "metadata": {},
   "outputs": [
    {
     "name": "stdout",
     "output_type": "stream",
     "text": [
      "El mejor modelo es: Random Forest\n",
      "Mejores hiperparámetros: {}\n",
      "Puntuación del mejor modelo: 0.8273948763654646\n"
     ]
    }
   ],
   "source": [
    "best_model_name = None\n",
    "best_model_params = None\n",
    "best_model_score = float('-inf')\n",
    "\n",
    "for model_name, grid_search_result in models_gridsearch.items():\n",
    "    if grid_search_result.best_score_ > best_model_score:\n",
    "        best_model_name = model_name\n",
    "        best_model_params = grid_search_result.best_params_\n",
    "        best_model_score = grid_search_result.best_score_\n",
    "\n",
    "print(\"El mejor modelo es:\", best_model_name)\n",
    "print(\"Mejores hiperparámetros:\", best_model_params)\n",
    "print(\"Puntuación del mejor modelo:\", best_model_score)"
   ]
  },
  {
   "cell_type": "markdown",
   "metadata": {},
   "source": [
    "Random Forest está obteniendo una puntuación alta en accuracy debido a su capacidad para ajustarse bien a los datos de entrenamiento, pero esto no garantiza que sea el mejor modelo en términos de precision y recall en un conjunto de datos de prueba."
   ]
  },
  {
   "cell_type": "code",
   "execution_count": 35,
   "metadata": {},
   "outputs": [
    {
     "name": "stdout",
     "output_type": "stream",
     "text": [
      "Mejor modelo para precision:\n",
      "Modelo                  SVC\n",
      "precision_macro    0.819619\n",
      "Name: 5, dtype: object\n",
      "\n",
      "Mejor modelo para recall:\n",
      "Modelo               SVC\n",
      "recall_macro    0.735603\n",
      "Name: 5, dtype: object\n",
      "\n",
      "Mejor modelo para F1 Score:\n",
      "Modelo      Regresión Logística\n",
      "f1_macro               0.720221\n",
      "Name: 0, dtype: object\n",
      "\n",
      "Mejor modelo para ROC AUC:\n",
      "Modelo         Regresión Logística\n",
      "roc_auc_ovr               0.921666\n",
      "Name: 0, dtype: object\n",
      "\n",
      "Mejor modelo para accuracy:\n",
      "Modelo          SVC\n",
      "accuracy    0.80474\n",
      "Name: 5, dtype: object\n"
     ]
    }
   ],
   "source": [
    "resultados = pd.DataFrame({\n",
    "    'Modelo': ['Regresión Logística', 'Random Forest', 'MLP', 'Bagging', 'KNN', 'SVC', 'Arbol de Decisión', 'AdaBoost'],\n",
    "    'roc_auc_ovr': [0.921666, 0.901486, 0.884915, 0.880935, 0.830618, None, 0.779259, 0.740247],\n",
    "    'precision_macro': [0.800427, 0.740452, 0.757216, 0.743867, 0.697784, 0.819619, 0.688160, 0.670092],\n",
    "    'recall_macro': [0.723294, 0.729068, 0.666442, 0.728911, 0.674796, 0.735603, 0.697577, 0.662561],\n",
    "    'f1_macro': [0.720221, 0.708230, 0.662757, 0.707485, 0.644973, None, 0.671422, 0.631116],\n",
    "    'accuracy': [0.779525, 0.779298, 0.734850, 0.765729, 0.710895, 0.804740, 0.738050, 0.672539]\n",
    "})\n",
    "\n",
    "mejor_modelo_precision = resultados.loc[resultados['precision_macro'].idxmax(), ['Modelo', 'precision_macro']]\n",
    "mejor_modelo_recall = resultados.loc[resultados['recall_macro'].idxmax(), ['Modelo', 'recall_macro']]\n",
    "mejor_modelo_f1score = resultados.loc[resultados['f1_macro'].idxmax(), ['Modelo', 'f1_macro']]\n",
    "mejor_modelo_roc_auc = resultados.loc[resultados['roc_auc_ovr'].idxmax(), ['Modelo', 'roc_auc_ovr']]\n",
    "mejor_modelo_accuracy = resultados.loc[resultados['accuracy'].idxmax(), ['Modelo', 'accuracy']]\n",
    "\n",
    "print(\"Mejor modelo para precision:\")\n",
    "print(mejor_modelo_precision)\n",
    "print(\"\\nMejor modelo para recall:\")\n",
    "print(mejor_modelo_recall)\n",
    "print(\"\\nMejor modelo para F1 Score:\")\n",
    "print(mejor_modelo_f1score)\n",
    "print(\"\\nMejor modelo para ROC AUC:\")\n",
    "print(mejor_modelo_roc_auc)\n",
    "print(\"\\nMejor modelo para accuracy:\")\n",
    "print(mejor_modelo_accuracy)"
   ]
  },
  {
   "cell_type": "markdown",
   "metadata": {},
   "source": [
    "Como se observa, según los valores de las métricas difiere el modelo que resulta optimo. ¿Cuál elegir entonces?"
   ]
  },
  {
   "cell_type": "markdown",
   "metadata": {},
   "source": [
    "#### Modelo seleccionado: SVC\n",
    "\n",
    "De acuerdo al contexto del problema, por un lado, se podría deducir que resulta de gran importancia tener en cuenta la precisión. Esto debido a que podría ser relevante minimizar los falsos positivos, es decir, predecir incorrectamente que la concentración de NO2 es alta cuando en realidad es baja. Esto es importante porque podría llevar a acciones incorrectas de mitigación o alerta que no son necesarias, lo que podría generar preocupación innecesaria para el público.  \n",
    "\n",
    "A su vez, maximizar el recall podría ser importante para garantizar que las concentraciones de NO2 que realmente son altas sean identificadas correctamente, ya que una subestimación de las concentraciones de NO2 podría llevar a una falta de acciones de mitigación necesarias."
   ]
  },
  {
   "cell_type": "code",
   "execution_count": 37,
   "metadata": {},
   "outputs": [
    {
     "data": {
      "text/html": [
       "<style>#sk-container-id-2 {color: black;}#sk-container-id-2 pre{padding: 0;}#sk-container-id-2 div.sk-toggleable {background-color: white;}#sk-container-id-2 label.sk-toggleable__label {cursor: pointer;display: block;width: 100%;margin-bottom: 0;padding: 0.3em;box-sizing: border-box;text-align: center;}#sk-container-id-2 label.sk-toggleable__label-arrow:before {content: \"▸\";float: left;margin-right: 0.25em;color: #696969;}#sk-container-id-2 label.sk-toggleable__label-arrow:hover:before {color: black;}#sk-container-id-2 div.sk-estimator:hover label.sk-toggleable__label-arrow:before {color: black;}#sk-container-id-2 div.sk-toggleable__content {max-height: 0;max-width: 0;overflow: hidden;text-align: left;background-color: #f0f8ff;}#sk-container-id-2 div.sk-toggleable__content pre {margin: 0.2em;color: black;border-radius: 0.25em;background-color: #f0f8ff;}#sk-container-id-2 input.sk-toggleable__control:checked~div.sk-toggleable__content {max-height: 200px;max-width: 100%;overflow: auto;}#sk-container-id-2 input.sk-toggleable__control:checked~label.sk-toggleable__label-arrow:before {content: \"▾\";}#sk-container-id-2 div.sk-estimator input.sk-toggleable__control:checked~label.sk-toggleable__label {background-color: #d4ebff;}#sk-container-id-2 div.sk-label input.sk-toggleable__control:checked~label.sk-toggleable__label {background-color: #d4ebff;}#sk-container-id-2 input.sk-hidden--visually {border: 0;clip: rect(1px 1px 1px 1px);clip: rect(1px, 1px, 1px, 1px);height: 1px;margin: -1px;overflow: hidden;padding: 0;position: absolute;width: 1px;}#sk-container-id-2 div.sk-estimator {font-family: monospace;background-color: #f0f8ff;border: 1px dotted black;border-radius: 0.25em;box-sizing: border-box;margin-bottom: 0.5em;}#sk-container-id-2 div.sk-estimator:hover {background-color: #d4ebff;}#sk-container-id-2 div.sk-parallel-item::after {content: \"\";width: 100%;border-bottom: 1px solid gray;flex-grow: 1;}#sk-container-id-2 div.sk-label:hover label.sk-toggleable__label {background-color: #d4ebff;}#sk-container-id-2 div.sk-serial::before {content: \"\";position: absolute;border-left: 1px solid gray;box-sizing: border-box;top: 0;bottom: 0;left: 50%;z-index: 0;}#sk-container-id-2 div.sk-serial {display: flex;flex-direction: column;align-items: center;background-color: white;padding-right: 0.2em;padding-left: 0.2em;position: relative;}#sk-container-id-2 div.sk-item {position: relative;z-index: 1;}#sk-container-id-2 div.sk-parallel {display: flex;align-items: stretch;justify-content: center;background-color: white;position: relative;}#sk-container-id-2 div.sk-item::before, #sk-container-id-2 div.sk-parallel-item::before {content: \"\";position: absolute;border-left: 1px solid gray;box-sizing: border-box;top: 0;bottom: 0;left: 50%;z-index: -1;}#sk-container-id-2 div.sk-parallel-item {display: flex;flex-direction: column;z-index: 1;position: relative;background-color: white;}#sk-container-id-2 div.sk-parallel-item:first-child::after {align-self: flex-end;width: 50%;}#sk-container-id-2 div.sk-parallel-item:last-child::after {align-self: flex-start;width: 50%;}#sk-container-id-2 div.sk-parallel-item:only-child::after {width: 0;}#sk-container-id-2 div.sk-dashed-wrapped {border: 1px dashed gray;margin: 0 0.4em 0.5em 0.4em;box-sizing: border-box;padding-bottom: 0.4em;background-color: white;}#sk-container-id-2 div.sk-label label {font-family: monospace;font-weight: bold;display: inline-block;line-height: 1.2em;}#sk-container-id-2 div.sk-label-container {text-align: center;}#sk-container-id-2 div.sk-container {/* jupyter's `normalize.less` sets `[hidden] { display: none; }` but bootstrap.min.css set `[hidden] { display: none !important; }` so we also need the `!important` here to be able to override the default hidden behavior on the sphinx rendered scikit-learn.org. See: https://github.com/scikit-learn/scikit-learn/issues/21755 */display: inline-block !important;position: relative;}#sk-container-id-2 div.sk-text-repr-fallback {display: none;}</style><div id=\"sk-container-id-2\" class=\"sk-top-container\"><div class=\"sk-text-repr-fallback\"><pre>SVC()</pre><b>In a Jupyter environment, please rerun this cell to show the HTML representation or trust the notebook. <br />On GitHub, the HTML representation is unable to render, please try loading this page with nbviewer.org.</b></div><div class=\"sk-container\" hidden><div class=\"sk-item\"><div class=\"sk-estimator sk-toggleable\"><input class=\"sk-toggleable__control sk-hidden--visually\" id=\"sk-estimator-id-2\" type=\"checkbox\" checked><label for=\"sk-estimator-id-2\" class=\"sk-toggleable__label sk-toggleable__label-arrow\">SVC</label><div class=\"sk-toggleable__content\"><pre>SVC()</pre></div></div></div></div></div>"
      ],
      "text/plain": [
       "SVC()"
      ]
     },
     "execution_count": 37,
     "metadata": {},
     "output_type": "execute_result"
    }
   ],
   "source": [
    "models_gridsearch['SVC'].best_estimator_"
   ]
  },
  {
   "cell_type": "code",
   "execution_count": 38,
   "metadata": {},
   "outputs": [
    {
     "data": {
      "text/plain": [
       "0.8611111111111112"
      ]
     },
     "execution_count": 38,
     "metadata": {},
     "output_type": "execute_result"
    }
   ],
   "source": [
    "models_gridsearch['SVC'].best_estimator_.score(X_test, Y_test)"
   ]
  },
  {
   "cell_type": "code",
   "execution_count": 47,
   "metadata": {},
   "outputs": [],
   "source": [
    "svc_model = Path().cwd().parent.parent / \"model\" / \"svc.model.pkl\"\n",
    "\n",
    "with open(svc_model, \"wb\") as archivo_salida:\n",
    "    pickle.dump(models_gridsearch['SVC'].best_estimator_, archivo_salida)"
   ]
  }
 ],
 "metadata": {
  "kernelspec": {
   "display_name": "Python 3",
   "language": "python",
   "name": "python3"
  },
  "language_info": {
   "codemirror_mode": {
    "name": "ipython",
    "version": 3
   },
   "file_extension": ".py",
   "mimetype": "text/x-python",
   "name": "python",
   "nbconvert_exporter": "python",
   "pygments_lexer": "ipython3",
   "version": "3.11.3"
  }
 },
 "nbformat": 4,
 "nbformat_minor": 2
}
